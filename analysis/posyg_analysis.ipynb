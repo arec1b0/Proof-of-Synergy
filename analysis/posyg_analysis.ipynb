{
  "cells": [
    {
      "cell_type": "markdown",
      "id": "d59ed5ed",
      "metadata": {},
      "source": [
        "# PoSyg Consensus Protocol Analysis\n",
        "\n",
        "Author: Daniil Krizhanovskyi  \n",
        "Date: October 2024  \n",
        "Description: Jupyter/Python notebook for in-depth analysis of Proof-of-Synergy (PoSyg) agent-based simulation results: network health, validator strategies, synergy scoring, attack resistance, economics, and statistical tests."
      ]
    },
    {
      "cell_type": "markdown",
      "id": "c57b543f",
      "metadata": {},
      "source": [
        "## Notebook Structure Manifest\n",
        "This notebook documents the analytical pipeline used in the PoSyg consensus analysis.\n",
        "---"
      ]
    },
    {
      "cell_type": "markdown",
      "id": "68696425",
      "metadata": {},
      "source": [
        "### 1. Load Simulation Data\n",
        "- Import metrics, validator states, and configuration JSON for each scenario.\n",
        "- Supported scenarios: baseline, cartel_attack, high_byzantine."
      ]
    },
    {
      "cell_type": "code",
      "execution_count": null,
      "id": "import-libs",
      "metadata": {},
      "outputs": [],
      "source": [
        "import pandas as pd\n",
        "import numpy as np\n",
        "import matplotlib.pyplot as plt\n",
        "import seaborn as sns\n",
        "from scipy import stats\n",
        "import json\n",
        "import os\n",
        "from pathlib import Path\n",
        "import warnings\n",
        "warnings.filterwarnings('ignore')\n",
        "\n",
        "# Set style\n",
        "plt.style.use('seaborn-v0_8-darkgrid')\n",
        "sns.set_palette('husl')"
      ]
    },
    {
      "cell_type": "code",
      "execution_count": null,
      "id": "load-data",
      "metadata": {},
      "outputs": [],
      "source": [
        "def load_simulation_data(scenario_name):\n",
        "    \"\"\"Load simulation results for a given scenario\"\"\"\n",
        "    base_path = f\"results_{scenario_name}\"\n",
        "    \n",
        "    # Load metrics history\n",
        "    metrics_df = pd.read_csv(f\"{base_path}/metrics_history.csv\")\n",
        "    \n",
        "    # Load final validator states\n",
        "    validators_df = pd.read_csv(f\"{base_path}/final_validator_states.csv\")\n",
        "    \n",
        "    # Load configuration\n",
        "    with open(f\"{base_path}/simulation_config.json\", \"r\") as f:\n",
        "        config = json.load(f)\n",
        "    \n",
        "    return metrics_df, validators_df, config\n",
        "\n",
        "# Load all scenarios\n",
        "scenarios = [\"baseline\", \"cartel_attack\", \"high_byzantine\"]\n",
        "results = {}\n",
        "\n",
        "for scenario in scenarios:\n",
        "    try:\n",
        "        metrics, validators, config = load_simulation_data(scenario)\n",
        "        results[scenario] = {\n",
        "            \"metrics\": metrics,\n",
        "            \"validators\": validators,\n",
        "            \"config\": config\n",
        "        }\n",
        "        print(f\"Loaded {scenario}: {len(metrics)} epochs, {len(validators)} validators\")\n",
        "    except FileNotFoundError:\n",
        "        print(f\"Warning: Results for {scenario} not found\")"
      ]
    },
    {
      "cell_type": "markdown",
      "id": "9becd2cf",
      "metadata": {},
      "source": [
        "### 2. Network Health Analysis\n",
        "- Plot active validator count per epoch.\n",
        "- Plot finality rate (10-epoch moving average).\n",
        "- Plot Gini coefficient for stake distribution.\n",
        "- Plot cumulative slashing events.\n",
        "- Compare metrics across all scenarios."
      ]
    },
    {
      "cell_type": "code",
      "execution_count": null,
      "id": "network-health",
      "metadata": {},
      "outputs": [],
      "source": [
        "fig, axes = plt.subplots(2, 2, figsize=(15, 10))\n",
        "fig.suptitle(\"Network Health Metrics Across Scenarios\", fontsize=16)\n",
        "\n",
        "# Plot 1: Active validators over time\n",
        "ax = axes[0, 0]\n",
        "for scenario, data in results.items():\n",
        "    metrics = data[\"metrics\"]\n",
        "    ax.plot(metrics[\"epoch\"], metrics[\"active_validators\"], \n",
        "            label=scenario, linewidth=2)\n",
        "ax.set_xlabel(\"Epoch\")\n",
        "ax.set_ylabel(\"Active Validators\")\n",
        "ax.set_title(\"Active Validator Count\")\n",
        "ax.legend()\n",
        "ax.grid(True, alpha=0.3)\n",
        "\n",
        "# Plot 2: Finality rate\n",
        "ax = axes[0, 1]\n",
        "for scenario, data in results.items():\n",
        "    metrics = data[\"metrics\"]\n",
        "    # Calculate moving average\n",
        "    window = 10\n",
        "    finality_ma = metrics[\"finality_rate\"].rolling(window=window, min_periods=1).mean()\n",
        "    ax.plot(metrics[\"epoch\"], finality_ma, \n",
        "            label=f\"{scenario} (MA-{window})\", linewidth=2)\n",
        "ax.set_xlabel(\"Epoch\")\n",
        "ax.set_ylabel(\"Finality Rate\")\n",
        "ax.set_title(\"Block Finality Rate (Moving Average)\")\n",
        "ax.legend()\n",
        "ax.grid(True, alpha=0.3)\n",
        "ax.set_ylim(0, 1.1)\n",
        "\n",
        "# Plot 3: Gini coefficient (decentralization)\n",
        "ax = axes[1, 0]\n",
        "for scenario, data in results.items():\n",
        "    metrics = data[\"metrics\"]\n",
        "    ax.plot(metrics[\"epoch\"], metrics[\"gini_coefficient\"], \n",
        "            label=scenario, linewidth=2)\n",
        "ax.set_xlabel(\"Epoch\")\n",
        "ax.set_ylabel(\"Gini Coefficient\")\n",
        "ax.set_title(\"Stake Distribution Inequality\")\n",
        "ax.legend()\n",
        "ax.grid(True, alpha=0.3)\n",
        "ax.set_ylim(0, 1)\n",
        "\n",
        "# Plot 4: Slashing events\n",
        "ax = axes[1, 1]\n",
        "for scenario, data in results.items():\n",
        "    metrics = data[\"metrics\"]\n",
        "    ax.plot(metrics[\"epoch\"], metrics[\"slashing_events\"], \n",
        "            label=scenario, linewidth=2)\n",
        "ax.set_xlabel(\"Epoch\")\n",
        "ax.set_ylabel(\"Cumulative Slashing Events\")\n",
        "ax.set_title(\"Protocol Violations (Slashing)\")\n",
        "ax.legend()\n",
        "ax.grid(True, alpha=0.3)\n",
        "\n",
        "plt.tight_layout()\n",
        "plt.show()"
      ]
    },
    {
      "cell_type": "markdown",
      "id": "f38b87cd",
      "metadata": {},
      "source": [
        "### 3. Validator Strategy Analysis\n",
        "- Group validators by strategy (honest, byzantine, cartel, etc.).\n",
        "- Aggregate and plot average stake, synergy score, blocks proposed, and slashing per strategy."
      ]
    },
    {
      "cell_type": "code",
      "execution_count": null,
      "id": "strategy-analysis",
      "metadata": {},
      "outputs": [],
      "source": [
        "fig, axes = plt.subplots(1, 3, figsize=(18, 6))\n",
        "fig.suptitle(\"Validator Performance by Strategy\", fontsize=16)\n",
        "\n",
        "for idx, (scenario, data) in enumerate(results.items()):\n",
        "    ax = axes[idx]\n",
        "    validators = data[\"validators\"]\n",
        "    \n"
      ]
    }
  ]
}